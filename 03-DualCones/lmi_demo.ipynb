{
 "cells": [
  {
   "cell_type": "code",
   "execution_count": 3,
   "metadata": {},
   "outputs": [],
   "source": [
    "import cvxpy as cvx\n",
    "import matplotlib.pyplot as plt\n",
    "%matplotlib inline\n",
    "import numpy as np"
   ]
  },
  {
   "cell_type": "code",
   "execution_count": 151,
   "metadata": {},
   "outputs": [],
   "source": [
    "A = np.array([[-2, -4], [4, -1]])\n",
    "x = np.array([1, 1])\n",
    "traj = [x]\n",
    "tau = 0.01\n",
    "for i in range(1000):\n",
    "    traj.append(traj[-1] + tau * A @ traj[-1])\n",
    "traj = np.array(traj)"
   ]
  },
  {
   "cell_type": "code",
   "execution_count": 152,
   "metadata": {},
   "outputs": [
    {
     "data": {
      "text/plain": [
       "array([-1.5+3.96862697j, -1.5-3.96862697j])"
      ]
     },
     "execution_count": 152,
     "metadata": {},
     "output_type": "execute_result"
    }
   ],
   "source": [
    "np.linalg.eigvals(A)"
   ]
  },
  {
   "cell_type": "code",
   "execution_count": 166,
   "metadata": {},
   "outputs": [
    {
     "data": {
      "image/png": "[encoded data removed]",
      "text/plain": [
       "<Figure size 432x288 with 1 Axes>"
      ]
     },
     "metadata": {},
     "output_type": "display_data"
    }
   ],
   "source": [
    "plt.plot(traj[:, 0], traj[:, 1])\n",
    "plt.tight_layout()\n",
    "plt.savefig(\"./trajectory.pdf\", format=\"pdf\")"
   ]
  },
  {
   "cell_type": "code",
   "execution_count": 163,
   "metadata": {},
   "outputs": [
    {
     "data": {
      "text/plain": [
       "0.0"
      ]
     },
     "execution_count": 163,
     "metadata": {},
     "output_type": "execute_result"
    }
   ],
   "source": [
    "P = cvx.Variable((2, 2), PSD=True)\n",
    "eps = 1e-1\n",
    "problem = cvx.Problem(cvx.Minimize(0), [A.T @ P + P @ A << -eps * P, P >> eps * np.eye(2)])\n",
    "problem.solve(solver=\"SCS\")"
   ]
  },
  {
   "cell_type": "code",
   "execution_count": 164,
   "metadata": {},
   "outputs": [
    {
     "data": {
      "text/plain": [
       "(array([[0.21279944, 0.00498653],\n",
       "        [0.00498653, 0.22003798]]),\n",
       " array([0.21025717, 0.22258025]),\n",
       " array([-0.81189559, -0.47937813]))"
      ]
     },
     "execution_count": 164,
     "metadata": {},
     "output_type": "execute_result"
    }
   ],
   "source": [
    "P.value, np.linalg.eigvals(P.value), np.linalg.eigvals(A.T @ P.value + P.value @ A)"
   ]
  },
  {
   "cell_type": "code",
   "execution_count": 129,
   "metadata": {},
   "outputs": [
    {
     "name": "stdout",
     "output_type": "stream",
     "text": [
      "[ 5.06447888 -1.45710426 -4.60737462]\n",
      "[[ 1. -1. -3.]\n",
      " [-1. -4.  2.]\n",
      " [-3.  2.  2.]]\n",
      "[-5.12071328  1.68078017  2.4399331 ]\n",
      "[[-0.  1.  3.]\n",
      " [ 1.  2. -1.]\n",
      " [ 3. -1. -3.]]\n",
      "[[-3.  1.  0.]\n",
      " [ 1.  1. -1.]\n",
      " [ 0. -1.  2.]]\n",
      "[-3.24655136  0.57688752  2.66966384]\n",
      "----------------------------------------------------------------------------\n",
      "\tSCS v1.2.6 - Splitting Conic Solver\n",
      "\t(c) Brendan O'Donoghue, Stanford University, 2012-2016\n",
      "----------------------------------------------------------------------------\n",
      "Lin-sys: sparse-indirect, nnz in A = 31, CG tol ~ 1/iter^(2.00)\n",
      "eps = 1.00e-04, alpha = 1.50, max_iters = 2500, normalize = 1, scale = 1.00\n",
      "Variables n = 3, constraints m = 15\n",
      "Cones:\tprimal zero / dual free vars: 9\n",
      "\tsd vars: 6, sd blks: 1\n",
      "Setup time: 1.86e-03s\n",
      "----------------------------------------------------------------------------\n",
      " Iter | pri res | dua res | rel gap | pri obj | dua obj | kap/tau | time (s)\n",
      "----------------------------------------------------------------------------\n",
      "     0| 6.27e-01  6.26e-01  5.92e-01 -2.71e+00 -3.22e-01  2.54e-15  1.10e-03 \n",
      "    40| 8.03e-06  1.43e-05  3.32e-07  5.48e-02  5.48e-02  1.21e-15  1.43e-03 \n",
      "----------------------------------------------------------------------------\n",
      "Status: Solved\n",
      "Timing: Solve time: 1.44e-03s\n",
      "\tLin-sys: avg # CG iterations: 1.27, avg solve time: 1.12e-06s\n",
      "\tCones: avg projection time: 5.30e-06s\n",
      "----------------------------------------------------------------------------\n",
      "Error metrics:\n",
      "dist(s, K) = 0.0000e+00, dist(y, K*) = 2.7184e-09, s'y/|s||y| = 5.3030e-10\n",
      "|Ax + s - b|_2 / (1 + |b|_2) = 8.0341e-06\n",
      "|A'y + c|_2 / (1 + |c|_2) = 1.4264e-05\n",
      "|c'x + b'y| / (1 + |c'x| + |b'y|) = 3.3187e-07\n",
      "----------------------------------------------------------------------------\n",
      "c'x = 0.0548, -b'y = 0.0548\n",
      "============================================================================\n"
     ]
    },
    {
     "data": {
      "text/plain": [
       "0.05478628472305679"
      ]
     },
     "execution_count": 129,
     "metadata": {},
     "output_type": "execute_result"
    }
   ],
   "source": [
    "x = cvx.Variable(2)\n",
    "A0 = np.random.randn(3, 3)\n",
    "A0 = np.round(A0 + A0.T)\n",
    "print(np.linalg.eigvals(A0))\n",
    "print(A0)\n",
    "A1 = np.random.randn(3, 3)\n",
    "A1 = np.round(A1 + A1.T)\n",
    "print(np.linalg.eigvals(A1))\n",
    "print(A1)\n",
    "A2 = np.random.randn(3, 3)\n",
    "A2 = np.round(A2.T + A2)\n",
    "print(A2)\n",
    "print(np.linalg.eigvals(A2))\n",
    "problem = cvx.Problem(cvx.Minimize(cvx.lambda_max(A0 + x[0] * A1 + x[1] * A2)))\n",
    "problem.solve(solver=\"SCS\", verbose=True)"
   ]
  },
  {
   "cell_type": "code",
   "execution_count": 130,
   "metadata": {},
   "outputs": [
    {
     "data": {
      "text/plain": [
       "array([0.96166719, 0.33091336])"
      ]
     },
     "execution_count": 130,
     "metadata": {},
     "output_type": "execute_result"
    }
   ],
   "source": [
    "x.value"
   ]
  },
  {
   "cell_type": "code",
   "execution_count": null,
   "metadata": {},
   "outputs": [],
   "source": []
  }
 ],
 "metadata": {
  "kernelspec": {
   "display_name": "Python 3 (cvxpy)",
   "language": "python",
   "name": "cvxpy"
  },
  "language_info": {
   "codemirror_mode": {
    "name": "ipython",
    "version": 3
   },
   "file_extension": ".py",
   "mimetype": "text/x-python",
   "name": "python",
   "nbconvert_exporter": "python",
   "pygments_lexer": "ipython3",
   "version": "3.6.8"
  }
 },
 "nbformat": 4,
 "nbformat_minor": 4
}
